{
 "cells": [
  {
   "cell_type": "markdown",
   "metadata": {},
   "source": [
    "citygmlをcsv, geojsonに変換する　"
   ]
  },
  {
   "cell_type": "code",
   "execution_count": null,
   "metadata": {},
   "outputs": [],
   "source": [
    "from pathlib import Path\n",
    "from tqdm import tqdm\n",
    "import pandas as pd\n",
    "import load_citygml"
   ]
  },
  {
   "cell_type": "markdown",
   "metadata": {},
   "source": [
    "citygmlを読み込む"
   ]
  },
  {
   "cell_type": "code",
   "execution_count": null,
   "metadata": {},
   "outputs": [],
   "source": [
    "filelist = list(Path('13100_tokyo23-ku_2020_citygml_3_2_op/udx/bldg/').glob('*.gml'))"
   ]
  },
  {
   "cell_type": "code",
   "execution_count": null,
   "metadata": {},
   "outputs": [],
   "source": [
    "print(len(filelist))\n",
    "print(filelist[0])"
   ]
  },
  {
   "cell_type": "code",
   "execution_count": null,
   "metadata": {},
   "outputs": [],
   "source": [
    "df = pd.DataFrame()\n",
    "for filepath in tqdm(filelist):\n",
    "    tmpdf = load_citygml.citygml_to_dataframe(filepath)\n",
    "    df = pd.concat([df, tmpdf]).reset_index(drop=True)"
   ]
  },
  {
   "cell_type": "code",
   "execution_count": null,
   "metadata": {},
   "outputs": [],
   "source": [
    "df.shape"
   ]
  },
  {
   "cell_type": "code",
   "execution_count": null,
   "metadata": {},
   "outputs": [],
   "source": [
    "df.columns"
   ]
  },
  {
   "cell_type": "markdown",
   "metadata": {},
   "source": [
    "いくつかのカラムがコードのままなのでmappingする"
   ]
  },
  {
   "cell_type": "code",
   "execution_count": null,
   "metadata": {},
   "outputs": [],
   "source": [
    "def load_dict(dictpath:str) -> dict:\n",
    "    return pd.read_xml(dictpath, \n",
    "                xpath='///gml:Definition',\n",
    "                namespaces={'gml': 'http://www.opengis.net/gml'}\n",
    "                ).astype(str).set_index('name')['description'].to_dict()"
   ]
  },
  {
   "cell_type": "code",
   "execution_count": null,
   "metadata": {},
   "outputs": [],
   "source": [
    "dict_prefecture = load_dict('13100_tokyo23-ku_2020_citygml_3_2_op/codelists/Common_prefecture.xml')\n",
    "df['prefecture_name'] = df['prefecture'].map(dict_prefecture)"
   ]
  },
  {
   "cell_type": "code",
   "execution_count": null,
   "metadata": {},
   "outputs": [],
   "source": [
    "dict_city = load_dict('13100_tokyo23-ku_2020_citygml_3_2_op/codelists/Common_localPublicAuthorities.xml')\n",
    "df['city_name'] = df['city'].map(dict_city)"
   ]
  },
  {
   "cell_type": "code",
   "execution_count": null,
   "metadata": {},
   "outputs": [],
   "source": [
    "dict_zone = load_dict('13100_tokyo23-ku_2020_citygml_3_2_op/codelists/Common_districtsAndZonesType.xml')\n",
    "df['districtsAndZonesType_name'] = df['districtsAndZonesType'].map(dict_zone)"
   ]
  },
  {
   "cell_type": "code",
   "execution_count": null,
   "metadata": {},
   "outputs": [],
   "source": [
    "df['surveyYear'].unique()"
   ]
  },
  {
   "cell_type": "code",
   "execution_count": null,
   "metadata": {},
   "outputs": [],
   "source": [
    "df['LOD1の立ち上げに使用する建築物の高さ'].unique()"
   ]
  },
  {
   "cell_type": "code",
   "execution_count": null,
   "metadata": {},
   "outputs": [],
   "source": [
    "import japanize_matplotlib"
   ]
  },
  {
   "cell_type": "code",
   "execution_count": null,
   "metadata": {},
   "outputs": [],
   "source": [
    "df['city_name'].value_counts().plot.bar()"
   ]
  },
  {
   "cell_type": "code",
   "execution_count": null,
   "metadata": {},
   "outputs": [],
   "source": [
    "cols = ['id', '建物ID', 'measuredHeight', 'lod0RoofEdge', 'address', 'prefecture_name', 'city_name',\n",
    "       '大字・町コード', '町・丁目コード', '13_区市町村コード_大字・町コード_町・丁目コード', 'buildingRoofEdgeArea',\n",
    "       'districtsAndZonesType_name', 'surveyYear', '土砂災害警戒区域', '防火及び準防火地域', '地区計画', 'name', '高度地区']"
   ]
  },
  {
   "cell_type": "code",
   "execution_count": null,
   "metadata": {},
   "outputs": [],
   "source": [
    "df['建物ID'].is_unique"
   ]
  },
  {
   "cell_type": "markdown",
   "metadata": {},
   "source": [
    "csvに書き出す"
   ]
  },
  {
   "cell_type": "code",
   "execution_count": null,
   "metadata": {},
   "outputs": [],
   "source": [
    "city_list = df['city_name'].unique()"
   ]
  },
  {
   "cell_type": "code",
   "execution_count": null,
   "metadata": {},
   "outputs": [],
   "source": [
    "for city in tqdm(city_list):\n",
    "    tmpdf = df.query('city_name == @city')[cols].dropna(axis=1, how='all').reset_index(drop=True)\n",
    "    tmpdf.to_csv(f'csv/{city}_plateau.csv', index=False)"
   ]
  },
  {
   "cell_type": "markdown",
   "metadata": {},
   "source": [
    "geojsonにする"
   ]
  },
  {
   "cell_type": "code",
   "execution_count": null,
   "metadata": {},
   "outputs": [],
   "source": [
    "import geopandas as gpd\n",
    "from shapely.geometry import Polygon\n",
    "import numpy as np"
   ]
  },
  {
   "cell_type": "code",
   "execution_count": null,
   "metadata": {},
   "outputs": [],
   "source": [
    "# ポリゴンに変換する\n",
    "df['lod0RoofEdge'] = df['lod0RoofEdge'].apply(lambda row: row.split())"
   ]
  },
  {
   "cell_type": "code",
   "execution_count": null,
   "metadata": {},
   "outputs": [],
   "source": [
    "df['lod0RoofEdge_2d'] = df['lod0RoofEdge'].apply(lambda row: np.reshape(row, (-1,3)).astype(float))"
   ]
  },
  {
   "cell_type": "code",
   "execution_count": null,
   "metadata": {},
   "outputs": [],
   "source": [
    "df['lod0RoofEdge_2d'] = df['lod0RoofEdge_2d'].apply(Polygon)"
   ]
  },
  {
   "cell_type": "code",
   "execution_count": null,
   "metadata": {},
   "outputs": [],
   "source": [
    "cols = ['id', '建物ID', 'measuredHeight', 'lod0RoofEdge_2d', 'address', 'prefecture_name', 'city_name',\n",
    "       '大字・町コード', '町・丁目コード', '13_区市町村コード_大字・町コード_町・丁目コード', 'buildingRoofEdgeArea',\n",
    "       'districtsAndZonesType_name', 'surveyYear', '土砂災害警戒区域', '防火及び準防火地域', '地区計画', 'name', '高度地区']"
   ]
  },
  {
   "cell_type": "code",
   "execution_count": null,
   "metadata": {},
   "outputs": [],
   "source": [
    "gdf = gpd.GeoDataFrame(df[cols])"
   ]
  },
  {
   "cell_type": "code",
   "execution_count": null,
   "metadata": {},
   "outputs": [],
   "source": [
    "gdf.set_geometry('lod0RoofEdge_2d', crs='EPSG:6697', inplace=True)"
   ]
  },
  {
   "cell_type": "code",
   "execution_count": null,
   "metadata": {},
   "outputs": [],
   "source": [
    "for city in tqdm(city_list):\n",
    "    tmpdf = gdf.query('city_name == @city').dropna(axis=1, how='all').reset_index(drop=True)\n",
    "    tmpdf.to_file(f'json/{city}_plateau.geojson', driver='GeoJSON', index=False)"
   ]
  },
  {
   "cell_type": "code",
   "execution_count": null,
   "metadata": {},
   "outputs": [],
   "source": []
  }
 ],
 "metadata": {
  "kernelspec": {
   "display_name": "Python 3.9.6 64-bit ('3.9.6')",
   "language": "python",
   "name": "python3"
  },
  "language_info": {
   "codemirror_mode": {
    "name": "ipython",
    "version": 3
   },
   "file_extension": ".py",
   "mimetype": "text/x-python",
   "name": "python",
   "nbconvert_exporter": "python",
   "pygments_lexer": "ipython3",
   "version": "3.9.6"
  },
  "orig_nbformat": 4,
  "vscode": {
   "interpreter": {
    "hash": "6ce740d200c46ec032f2a21d82badeba471a1ea5c7bd65b874816887ef8fe68e"
   }
  }
 },
 "nbformat": 4,
 "nbformat_minor": 2
}
