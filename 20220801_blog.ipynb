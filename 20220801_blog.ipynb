{
 "cells": [
  {
   "cell_type": "markdown",
   "metadata": {},
   "source": [
    "ブログ"
   ]
  },
  {
   "cell_type": "code",
   "execution_count": null,
   "metadata": {},
   "outputs": [],
   "source": [
    "from pathlib import Path\n",
    "import geopandas as gpd\n",
    "import pandas as pd\n",
    "import numpy as np\n",
    "from shapely.geometry import Polygon\n",
    "import matplotlib.pyplot as plt\n",
    "import japanize_matplotlib\n",
    "from tqdm import tqdm"
   ]
  },
  {
   "cell_type": "code",
   "execution_count": null,
   "metadata": {},
   "outputs": [],
   "source": [
    "# データ読み込み\n",
    "files = list(Path('./csv').glob('*.csv'))\n",
    "print(files[0])"
   ]
  },
  {
   "cell_type": "code",
   "execution_count": null,
   "metadata": {},
   "outputs": [],
   "source": [
    "df = pd.DataFrame()\n",
    "for filepath in files:\n",
    "    tmp = pd.read_csv(filepath, dtype=str)\n",
    "    df = pd.concat([df, tmp]).reset_index(drop=True)"
   ]
  },
  {
   "cell_type": "code",
   "execution_count": null,
   "metadata": {},
   "outputs": [],
   "source": [
    "# ポリゴンに変換する\n",
    "df['lod0RoofEdge'] = df['lod0RoofEdge'].apply(lambda row: row.split())"
   ]
  },
  {
   "cell_type": "code",
   "execution_count": null,
   "metadata": {},
   "outputs": [],
   "source": [
    "df['lod0RoofEdge'] = df['lod0RoofEdge'].apply(lambda row: np.reshape(row, (-1,3)).astype(float))"
   ]
  },
  {
   "cell_type": "code",
   "execution_count": null,
   "metadata": {},
   "outputs": [],
   "source": [
    "df['lod0RoofEdge'] = df['lod0RoofEdge'].apply(Polygon)"
   ]
  },
  {
   "cell_type": "code",
   "execution_count": null,
   "metadata": {},
   "outputs": [],
   "source": [
    "gdf = gpd.GeoDataFrame(df)\n",
    "gdf.set_geometry('lod0RoofEdge', crs='EPSG:6697', inplace=True)"
   ]
  },
  {
   "cell_type": "code",
   "execution_count": null,
   "metadata": {},
   "outputs": [],
   "source": [
    "gdf.shape"
   ]
  },
  {
   "cell_type": "markdown",
   "metadata": {},
   "source": [
    "---\n",
    "ビルのboundaryをとり、角度と距離を計算する"
   ]
  },
  {
   "cell_type": "code",
   "execution_count": null,
   "metadata": {},
   "outputs": [],
   "source": [
    "#　角度と距離を計算する\n",
    "from typing import List\n",
    "def calc_angle_dist(elem: Polygon) -> List[float, float]:\n",
    "    b = np.array(elem.minimum_rotated_rectangle.boundary.coords)\n",
    "    vec = [b[i] - b[i+1] for i in range(4)]\n",
    "    return [[np.arctan2(*v), np.linalg.norm(v)] for v in vec]"
   ]
  },
  {
   "cell_type": "code",
   "execution_count": null,
   "metadata": {},
   "outputs": [],
   "source": [
    "print(calc_angle_dist(gdf['lod0RoofEdge'][0]))"
   ]
  },
  {
   "cell_type": "code",
   "execution_count": null,
   "metadata": {},
   "outputs": [],
   "source": [
    "tqdm.pandas()"
   ]
  },
  {
   "cell_type": "code",
   "execution_count": null,
   "metadata": {},
   "outputs": [],
   "source": [
    "gdf['boundary'] = gdf['lod0RoofEdge'].progress_apply(calc_angle_dist)"
   ]
  },
  {
   "cell_type": "code",
   "execution_count": null,
   "metadata": {},
   "outputs": [],
   "source": [
    "gdf_explode = gdf[['boundary', 'city_name']].explode('boundary').reset_index(drop=True)"
   ]
  },
  {
   "cell_type": "code",
   "execution_count": null,
   "metadata": {},
   "outputs": [],
   "source": [
    "gdf_explode['angle'] = gdf_explode['boundary'].str[0]\n",
    "gdf_explode['dist'] = gdf_explode['boundary'].str[1]"
   ]
  },
  {
   "cell_type": "code",
   "execution_count": null,
   "metadata": {},
   "outputs": [],
   "source": [
    "# save point\n",
    "# gdf_explode[['city_name','angle','dist']].to_csv('data.csv',index=False)\n",
    "# gdf_explode = pd.read_csv('data.csv')"
   ]
  },
  {
   "cell_type": "code",
   "execution_count": null,
   "metadata": {},
   "outputs": [],
   "source": [
    "gdf_explode.query('city_name==\"東京都墨田区\"')['angle'].apply([min,max])"
   ]
  },
  {
   "cell_type": "code",
   "execution_count": null,
   "metadata": {},
   "outputs": [],
   "source": [
    "gdf_explode.loc[gdf_explode['angle']>np.pi, 'angle'] -= np.pi #.apply([min,max])"
   ]
  },
  {
   "cell_type": "code",
   "execution_count": null,
   "metadata": {},
   "outputs": [],
   "source": [
    "gdf_explode.shape"
   ]
  },
  {
   "cell_type": "code",
   "execution_count": null,
   "metadata": {},
   "outputs": [],
   "source": [
    "gdf_explode.head()"
   ]
  },
  {
   "cell_type": "code",
   "execution_count": null,
   "metadata": {},
   "outputs": [],
   "source": [
    "gdf_explode['city_name'].nunique()"
   ]
  },
  {
   "cell_type": "code",
   "execution_count": null,
   "metadata": {},
   "outputs": [],
   "source": [
    "gdf_explode['city_name'].unique()"
   ]
  },
  {
   "cell_type": "markdown",
   "metadata": {},
   "source": [
    "どれだけ値が集中しているかでsortする"
   ]
  },
  {
   "cell_type": "code",
   "execution_count": null,
   "metadata": {},
   "outputs": [],
   "source": [
    "result = pd.DataFrame()\n",
    "for i, city in enumerate(gdf_explode.city_name.unique()):\n",
    "    tmpdf = gdf_explode.query('city_name==@city')\n",
    "    val = pd.cut(tmpdf['angle'], 40).value_counts(normalize=True).reset_index(drop=True).rename(city)\n",
    "    result = pd.concat([result, val],axis=1)"
   ]
  },
  {
   "cell_type": "code",
   "execution_count": null,
   "metadata": {},
   "outputs": [],
   "source": [
    "cities = (result.T[0] + result.T[2] + result.T[4]).sort_values(ascending=False).index\n",
    "cities"
   ]
  },
  {
   "cell_type": "markdown",
   "metadata": {},
   "source": [
    "全部の区をplotする"
   ]
  },
  {
   "cell_type": "code",
   "execution_count": null,
   "metadata": {},
   "outputs": [],
   "source": [
    "N = 40\n",
    "bottom = 1\n",
    "width = (2*np.pi) / N\n",
    "max_height = 4\n",
    "theta = np.linspace(0.0, 2 * np.pi, N, endpoint=False)"
   ]
  },
  {
   "cell_type": "code",
   "execution_count": null,
   "metadata": {},
   "outputs": [],
   "source": [
    "fig, axes = plt.subplots(6,4,figsize=(20,35), subplot_kw={'projection': 'polar'})\n",
    "for i,city in enumerate(cities):\n",
    "    # prepare data\n",
    "    tmpdf = gdf_explode.query('city_name==@city')\n",
    "    # radii, _ ,_ = plt.hist(tmpdf['angle'], weights=tmpdf['dist'], bins=N)\n",
    "    radii, _ = np.histogram(tmpdf['angle'], weights=tmpdf['dist'], bins=N)\n",
    "    radii = radii / max(radii) * max_height\n",
    "    \n",
    "    # plot\n",
    "    ax = axes[i//4][i%4]\n",
    "    ax.set_title(city)\n",
    "    bars = ax.bar(theta, radii, width=width, bottom=bottom)\n",
    "\n",
    "    # x-labels setting\n",
    "    ax.set_xlim([-np.pi, np.pi])\n",
    "    ax.set_xticks(np.linspace(-np.pi, np.pi, 9)[1:])\n",
    "    ax.set_xticklabels([\"SW\", \"W\", \"NW\", \"N\", \"NE\", \"E\", \"SE\", \"S\",])\n",
    "    ax.set_theta_direction(-1)\n",
    "    ax.set_theta_zero_location(\"N\")\n",
    "\n",
    "    # y-label setting\n",
    "    ax.set_yticklabels([])\n",
    "\n",
    "    # Use custom colors and opacity\n",
    "    for r, bar in zip(radii, bars):\n",
    "        bar.set_facecolor(plt.cm.jet(r / 10.))\n",
    "        bar.set_alpha(0.8)\n",
    "plt.show()"
   ]
  },
  {
   "cell_type": "markdown",
   "metadata": {},
   "source": [
    "中央区だけプロットする"
   ]
  },
  {
   "cell_type": "code",
   "execution_count": null,
   "metadata": {},
   "outputs": [],
   "source": [
    "fig, ax = plt.subplots(1,1,figsize=(7,7), subplot_kw={'projection': 'polar'})\n",
    "# prepare data\n",
    "city = '東京都中央区'\n",
    "tmpdf = gdf_explode.query('city_name==@city')\n",
    "# radii, _ ,_ = plt.hist(tmpdf['angle'], weights=tmpdf['dist'], bins=N)\n",
    "radii, _ = np.histogram(tmpdf['angle'], weights=tmpdf['dist'], bins=N)\n",
    "radii = radii / max(radii) * max_height\n",
    "\n",
    "# plot\n",
    "ax.set_title(city)\n",
    "bars = ax.bar(theta, radii, width=width, bottom=bottom)\n",
    "\n",
    "# x-labels setting\n",
    "ax.set_xlim([-np.pi, np.pi])\n",
    "ax.set_xticks(np.linspace(-np.pi, np.pi, 9)[1:])\n",
    "ax.set_xticklabels([\"SW\", \"W\", \"NW\", \"N\", \"NE\", \"E\", \"SE\", \"S\",])\n",
    "ax.set_theta_direction(-1)\n",
    "ax.set_theta_zero_location(\"N\")\n",
    "\n",
    "# y-label setting\n",
    "ax.set_yticklabels([])\n",
    "\n",
    "# Use custom colors and opacity\n",
    "for r, bar in zip(radii, bars):\n",
    "    bar.set_facecolor(plt.cm.jet(r / 10.))\n",
    "    bar.set_alpha(0.8)\n",
    "plt.show()"
   ]
  },
  {
   "cell_type": "code",
   "execution_count": null,
   "metadata": {},
   "outputs": [],
   "source": []
  }
 ],
 "metadata": {
  "kernelspec": {
   "display_name": "Python 3.9.6 64-bit ('3.9.6')",
   "language": "python",
   "name": "python3"
  },
  "language_info": {
   "codemirror_mode": {
    "name": "ipython",
    "version": 3
   },
   "file_extension": ".py",
   "mimetype": "text/x-python",
   "name": "python",
   "nbconvert_exporter": "python",
   "pygments_lexer": "ipython3",
   "version": "3.9.6"
  },
  "orig_nbformat": 4,
  "vscode": {
   "interpreter": {
    "hash": "6ce740d200c46ec032f2a21d82badeba471a1ea5c7bd65b874816887ef8fe68e"
   }
  }
 },
 "nbformat": 4,
 "nbformat_minor": 2
}
